{
 "cells": [
  {
   "cell_type": "code",
   "execution_count": 1,
   "metadata": {},
   "outputs": [],
   "source": [
    "from motion_planner import MotionPlanner, Trajectory, RobotModel\n",
    "import numpy as np"
   ]
  },
  {
   "cell_type": "markdown",
   "metadata": {},
   "source": [
    "### Create your motion planner"
   ]
  },
  {
   "cell_type": "code",
   "execution_count": 2,
   "metadata": {},
   "outputs": [
    {
     "name": "stdout",
     "output_type": "stream",
     "text": [
      "link name in Motion planner constructor panda_tool\n",
      "panda_tool\n",
      "urdf : descriptions/robot_descriptions/franka_panda_bullet/panda_arm.urdf\n"
     ]
    }
   ],
   "source": [
    "planner = MotionPlanner(RobotModel.Panda)"
   ]
  },
  {
   "cell_type": "markdown",
   "metadata": {},
   "source": [
    "### Set boundary conditions"
   ]
  },
  {
   "cell_type": "code",
   "execution_count": 3,
   "metadata": {},
   "outputs": [],
   "source": [
    "# Initial state\n",
    "q0 = np.array([ 0.67373054,  1.22464762, -0.41799474, -0.9453,     -0.69665789,  1.42159091, -0.990211  ])\n",
    "dq0 = np.array([-0.62467405, -0.36846654, -0.64362514,  0.84445767, -0.59795651,  1.08140881,  0.        ])\n",
    "ddq0 = np.zeros_like(q0)\n",
    "\n",
    "qd = 1.2 * q0 # No meaning, just use whatever you want\n",
    "dqd = 0.8 * dq0\n",
    "ddqd = np.zeros_like(qd)\n",
    "\n",
    "planner.set_current_state((q0, dq0, ddq0))\n",
    "planner.set_target_state((qd, dqd, ddqd))"
   ]
  },
  {
   "cell_type": "markdown",
   "metadata": {},
   "source": [
    "### Solve and get trajectory"
   ]
  },
  {
   "cell_type": "code",
   "execution_count": 4,
   "metadata": {},
   "outputs": [
    {
     "name": "stdout",
     "output_type": "stream",
     "text": [
      "Before mpc.solve()\n",
      "After mpc.solve()\n"
     ]
    }
   ],
   "source": [
    "planner.solve() # You can specify other parameters such as sqp_max_iter\n",
    "traj = planner.get_trajectory()\n",
    "traj_ruckig = planner.get_trajectory(ruckig=True)"
   ]
  },
  {
   "cell_type": "markdown",
   "metadata": {},
   "source": [
    "If you have several trajectories to compute, you can concatenate these by using the \"+\" operator :"
   ]
  },
  {
   "cell_type": "code",
   "execution_count": 5,
   "metadata": {},
   "outputs": [
    {
     "name": "stdout",
     "output_type": "stream",
     "text": [
      "Shape of traj is initially : (1, 101) (1 trajectory of 101 time-steps)\n",
      "After using the + operator traj has now shape : (2, 101) (2 trajectories of 101 time-steps each)\n"
     ]
    }
   ],
   "source": [
    "print(\"Shape of traj is initially : {} ({} trajectory of {} time-steps)\".format(traj.shape, *traj.shape))\n",
    "traj2 = planner.get_trajectory()\n",
    "traj += traj2\n",
    "print(\"After using the + operator traj has now shape : {} ({} trajectories of {} time-steps each)\".format(traj.shape, *traj.shape))"
   ]
  },
  {
   "cell_type": "markdown",
   "metadata": {},
   "source": [
    "### Accessing t, q, qdot, qddot and tau\n",
    "To access the results, you can use one of these notations:"
   ]
  },
  {
   "cell_type": "code",
   "execution_count": 10,
   "metadata": {},
   "outputs": [
    {
     "name": "stdout",
     "output_type": "stream",
     "text": [
      "(101,) (101, 7) (101, 7) (101, 7) (101, 7)\n"
     ]
    }
   ],
   "source": [
    "t = traj[\"t\"]\n",
    "q = traj.q\n",
    "qdot = traj[\"qdot\"][0] # If you want to access the first q trajectory\n",
    "t, q, qdot, qddot, tau = traj[1] # If you want to get all the state from the second trajectory at once\n",
    "\n",
    "# \n",
    "# etc ..\n",
    "#\n",
    "\n",
    "print(t.shape, q.shape, qdot.shape, qddot.shape, tau.shape)"
   ]
  },
  {
   "cell_type": "markdown",
   "metadata": {},
   "source": [
    "### Trajectory analysis\n",
    "The .get_trajectory() method returns a Trajectory object that provides several useful analysis methods. To check if the trajectories satasfy all the constraints: "
   ]
  },
  {
   "cell_type": "code",
   "execution_count": 6,
   "metadata": {},
   "outputs": [
    {
     "name": "stdout",
     "output_type": "stream",
     "text": [
      "Constraint satisfied : [ True  True]\n"
     ]
    }
   ],
   "source": [
    "print(\"Constraint satisfied : {}\".format(traj.all_cons_satisfied))"
   ]
  },
  {
   "cell_type": "markdown",
   "metadata": {},
   "source": [
    "the .all_cons_satisfied attribute **returns one boolean per trajectory stored!** You can also assess each constraint separately by accessing the attributes :\n",
    "- .q_cons_satisfied\n",
    "- .qdot_cons_satisfied\n",
    "- .qddot_cons_satisfied\n",
    "- .tau_cons_satisfied"
   ]
  },
  {
   "cell_type": "code",
   "execution_count": null,
   "metadata": {},
   "outputs": [],
   "source": []
  },
  {
   "cell_type": "code",
   "execution_count": null,
   "metadata": {},
   "outputs": [],
   "source": []
  }
 ],
 "metadata": {
  "kernelspec": {
   "display_name": "safe_throwing_env",
   "language": "python",
   "name": "python3"
  },
  "language_info": {
   "codemirror_mode": {
    "name": "ipython",
    "version": 3
   },
   "file_extension": ".py",
   "mimetype": "text/x-python",
   "name": "python",
   "nbconvert_exporter": "python",
   "pygments_lexer": "ipython3",
   "version": "3.10.12"
  },
  "orig_nbformat": 4
 },
 "nbformat": 4,
 "nbformat_minor": 2
}
